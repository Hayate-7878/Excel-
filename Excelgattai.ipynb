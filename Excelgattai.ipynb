{
  "nbformat": 4,
  "nbformat_minor": 0,
  "metadata": {
    "colab": {
      "provenance": []
    },
    "kernelspec": {
      "name": "python3",
      "display_name": "Python 3"
    },
    "language_info": {
      "name": "python"
    }
  },
  "cells": [
    {
      "cell_type": "markdown",
      "source": [
        "# Excel自動統合スクリプト\n",
        "\n",
        "## 概要\n",
        "複数の売上ExcelファイルをPythonでまとめて1ファイルにするツールです。\n",
        "\n",
        "## 必要ライブラリ\n",
        "- pandas\n",
        "- openpyxl\n",
        "\n",
        "## 実行方法\n",
        "```bash\n",
        "python main.py\n"
      ],
      "metadata": {
        "id": "_DgP0oCpAE1y"
      }
    },
    {
      "cell_type": "code",
      "execution_count": 1,
      "metadata": {
        "colab": {
          "base_uri": "https://localhost:8080/"
        },
        "id": "LEYXFVVI9k9x",
        "outputId": "10f5dc4c-46ea-4fe0-e077-1b89250333ac"
      },
      "outputs": [
        {
          "output_type": "stream",
          "name": "stdout",
          "text": [
            "統合完了！\n"
          ]
        }
      ],
      "source": [
        "import pandas as pd\n",
        "import glob\n",
        "\n",
        "# Excelファイルを一括取得（同じフォルダにある前提）\n",
        "files = glob.glob(\"sales_*.xlsx\")\n",
        "\n",
        "# 各ファイルを読み込んでDataFrameとしてまとめる\n",
        "all_data = pd.concat([pd.read_excel(f) for f in files], ignore_index=True)\n",
        "\n",
        "# 結果を保存\n",
        "all_data.to_excel(\"sales_all.xlsx\", index=False)\n",
        "\n",
        "print(\"統合完了！\")\n"
      ]
    }
  ]
}